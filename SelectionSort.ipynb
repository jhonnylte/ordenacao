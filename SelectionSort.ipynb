{
  "nbformat": 4,
  "nbformat_minor": 0,
  "metadata": {
    "colab": {
      "provenance": [],
      "authorship_tag": "ABX9TyOxu5VTHC6ot4m5a42cBOGV"
    },
    "kernelspec": {
      "name": "python3",
      "display_name": "Python 3"
    },
    "language_info": {
      "name": "python"
    }
  },
  "cells": [
    {
      "cell_type": "code",
      "execution_count": null,
      "metadata": {
        "id": "3y2DB_5Xr9E4"
      },
      "outputs": [],
      "source": [
        "import numpy as np"
      ]
    },
    {
      "cell_type": "code",
      "source": [
        "import matplotlib.pyplot as plt"
      ],
      "metadata": {
        "id": "gezfPvnMMD98"
      },
      "execution_count": null,
      "outputs": []
    },
    {
      "cell_type": "code",
      "source": [
        "from time import perf_counter"
      ],
      "metadata": {
        "id": "PVOccqQd7lPQ"
      },
      "execution_count": null,
      "outputs": []
    },
    {
      "cell_type": "code",
      "source": [
        "lista = list(np.random.randint(1, 50, 30))\n",
        "print(lista)"
      ],
      "metadata": {
        "id": "5WsWCMV6tDub",
        "colab": {
          "base_uri": "https://localhost:8080/"
        },
        "outputId": "4296bc4e-78d5-49bb-efef-d11d0606b205"
      },
      "execution_count": null,
      "outputs": [
        {
          "output_type": "stream",
          "name": "stdout",
          "text": [
            "[7, 26, 17, 19, 29, 32, 31, 15, 7, 12, 41, 1, 5, 19, 11, 40, 6, 44, 41, 23, 30, 7, 15, 23, 21, 15, 41, 40, 47, 18]\n"
          ]
        }
      ]
    },
    {
      "cell_type": "code",
      "source": [
        "def Ordenar(lista):\n",
        "  for i in range(len(lista)):\n",
        "    menor = lista[i]\n",
        "    indiceDoMenor = i\n",
        "    for a in range(i+1, len(lista)):\n",
        "      if lista[a] < menor:\n",
        "        menor = lista[a]\n",
        "        indiceDoMenor = a\n",
        "    lista[i], lista[indiceDoMenor] = lista[indiceDoMenor], lista[i]    "
      ],
      "metadata": {
        "id": "7BGxxM1ztHml"
      },
      "execution_count": null,
      "outputs": []
    },
    {
      "cell_type": "code",
      "source": [
        "Ordenar(lista)\n"
      ],
      "metadata": {
        "id": "ECwkWLDPvVJD"
      },
      "execution_count": null,
      "outputs": []
    },
    {
      "cell_type": "code",
      "source": [
        "print(lista)"
      ],
      "metadata": {
        "colab": {
          "base_uri": "https://localhost:8080/"
        },
        "id": "1QadD11eL07Z",
        "outputId": "3021360c-0025-41cc-ea18-fa5992f2c182"
      },
      "execution_count": null,
      "outputs": [
        {
          "output_type": "stream",
          "name": "stdout",
          "text": [
            "[1, 8, 8, 9, 13, 14, 14, 15, 16, 19, 24, 27, 27, 28, 32, 34, 34, 35, 35, 38, 39, 40, 40, 41, 41, 45, 46, 47, 47, 48]\n"
          ]
        }
      ]
    },
    {
      "cell_type": "code",
      "source": [
        "lista_de_tamanhos = [1000,2000,3000,4000,5000,8000,11000,15000]"
      ],
      "metadata": {
        "id": "c79OPvtHMCbi"
      },
      "execution_count": null,
      "outputs": []
    },
    {
      "cell_type": "code",
      "source": [
        "tempos = []\n",
        "for tamanho in lista_de_tamanhos:\n",
        "  listaAleatoria = list(np.random.randint(1, tamanho, tamanho))\n",
        "  inicioCount = perf_counter()\n",
        "  Ordenar(listaAleatoria)\n",
        "  fimCount = perf_counter()\n",
        "  tempoDeOrdenamento = fimCount - inicioCount\n",
        "  tempos.append(tempoDeOrdenamento)"
      ],
      "metadata": {
        "id": "OYe6RISf2IWS"
      },
      "execution_count": null,
      "outputs": []
    },
    {
      "cell_type": "code",
      "source": [
        "tempos"
      ],
      "metadata": {
        "colab": {
          "base_uri": "https://localhost:8080/"
        },
        "id": "wyGHgGAH9RvQ",
        "outputId": "e962796f-5a02-4f9c-9e1a-73245d8e871c"
      },
      "execution_count": null,
      "outputs": [
        {
          "output_type": "execute_result",
          "data": {
            "text/plain": [
              "[0.04578187899997488,\n",
              " 0.1507878259999984,\n",
              " 0.34210821200002783,\n",
              " 0.616357536999999,\n",
              " 0.9451586769999949,\n",
              " 2.429204709000004,\n",
              " 4.49375255999999,\n",
              " 8.409946077]"
            ]
          },
          "metadata": {},
          "execution_count": 15
        }
      ]
    },
    {
      "cell_type": "code",
      "source": [
        "temposPiores = []\n",
        "for tamanho in lista_de_tamanhos:\n",
        "  listaAleatoria = list(np.arange(tamanho))\n",
        "  listaAleatoria.reverse()\n",
        "  inicioCount = perf_counter()\n",
        "  Ordenar(listaAleatoria)\n",
        "  fimCount = perf_counter()\n",
        "  tempoDeOrdenamento = fimCount - inicioCount\n",
        "  temposPiores.append(tempoDeOrdenamento)"
      ],
      "metadata": {
        "id": "9vm7V1-W_Voc"
      },
      "execution_count": null,
      "outputs": []
    },
    {
      "cell_type": "code",
      "source": [
        "temposPiores"
      ],
      "metadata": {
        "colab": {
          "base_uri": "https://localhost:8080/"
        },
        "id": "C7QMHZaHGYjl",
        "outputId": "3fe2f15d-3d42-4caf-d062-c89d7b35c46a"
      },
      "execution_count": null,
      "outputs": [
        {
          "output_type": "execute_result",
          "data": {
            "text/plain": [
              "[0.05357538900000236,\n",
              " 0.186957174000014,\n",
              " 0.42621026000000484,\n",
              " 0.758796574999991,\n",
              " 1.2267165179999893,\n",
              " 3.0642023730000005,\n",
              " 5.778327939999997,\n",
              " 10.802161789999985]"
            ]
          },
          "metadata": {},
          "execution_count": 12
        }
      ]
    },
    {
      "cell_type": "code",
      "source": [
        "plt.plot(lista_de_tamanhos, tempos, label='Listas aleatórias')\n",
        "plt.plot(lista_de_tamanhos, temposPiores, color='tab:red', label='Listas decrescentes')\n",
        "plt.legend()"
      ],
      "metadata": {
        "colab": {
          "base_uri": "https://localhost:8080/",
          "height": 282
        },
        "id": "DfFbZXo5LQuj",
        "outputId": "2d25cced-4f20-4af1-edea-d1e47b957c8f"
      },
      "execution_count": null,
      "outputs": [
        {
          "output_type": "execute_result",
          "data": {
            "text/plain": [
              "<matplotlib.legend.Legend at 0x7fc11d481590>"
            ]
          },
          "metadata": {},
          "execution_count": 16
        },
        {
          "output_type": "display_data",
          "data": {
            "text/plain": [
              "<Figure size 432x288 with 1 Axes>"
            ],
            "image/png": "[encoded data removed]"
          },
          "metadata": {
            "needs_background": "light"
          }
        }
      ]
    }
  ]
}