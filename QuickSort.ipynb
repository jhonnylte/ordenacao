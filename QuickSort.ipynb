{
  "nbformat": 4,
  "nbformat_minor": 0,
  "metadata": {
    "colab": {
      "provenance": [],
      "authorship_tag": "ABX9TyO8iMeH6MBlw8nNHTXkXDVM"
    },
    "kernelspec": {
      "name": "python3",
      "display_name": "Python 3"
    },
    "language_info": {
      "name": "python"
    }
  },
  "cells": [
    {
      "cell_type": "code",
      "execution_count": null,
      "metadata": {
        "id": "YduNvr-Fmaos"
      },
      "outputs": [],
      "source": [
        "import numpy as np"
      ]
    },
    {
      "cell_type": "code",
      "source": [
        "import matplotlib.pyplot as plt"
      ],
      "metadata": {
        "id": "byOuzaynme_C"
      },
      "execution_count": null,
      "outputs": []
    },
    {
      "cell_type": "code",
      "source": [
        "import math"
      ],
      "metadata": {
        "id": "uvn0tHVkqkLB"
      },
      "execution_count": null,
      "outputs": []
    },
    {
      "cell_type": "code",
      "source": [
        "from time import perf_counter"
      ],
      "metadata": {
        "id": "qMmU5KqP-F8V"
      },
      "execution_count": null,
      "outputs": []
    },
    {
      "cell_type": "code",
      "source": [
        "import sys\n",
        "sys.setrecursionlimit(10**8)"
      ],
      "metadata": {
        "id": "RkSEByWJAVWC"
      },
      "execution_count": null,
      "outputs": []
    },
    {
      "cell_type": "code",
      "source": [
        "nums = [3, 5, 6, 2, 1, 4, 8, 7, 9, 11, 23, 67, 33, 123]"
      ],
      "metadata": {
        "id": "ec89-I1LmiuR"
      },
      "execution_count": null,
      "outputs": []
    },
    {
      "cell_type": "code",
      "source": [
        "def Quick(lista):\n",
        "  if len(lista) > 1:\n",
        "    e = [] # [2, 1]\n",
        "    d = [] # [5, 6, 4, 8, 7, 9]\n",
        "    pivo = lista[0]\n",
        "    for i in lista:\n",
        "      if i < pivo:\n",
        "        e.append(i)\n",
        "      elif i > pivo:\n",
        "        d.append(i)\n",
        "    return Quick(e) + [pivo] + Quick(d)\n",
        "  else:\n",
        "    return lista\n",
        "    "
      ],
      "metadata": {
        "id": "1e5ZmMjw5lh0"
      },
      "execution_count": null,
      "outputs": []
    },
    {
      "cell_type": "code",
      "source": [
        "print(Quick(nums))\n"
      ],
      "metadata": {
        "colab": {
          "base_uri": "https://localhost:8080/"
        },
        "id": "-6jh7EXkJXnA",
        "outputId": "a9b7aaab-e03c-4845-b43e-22c63522f818"
      },
      "execution_count": null,
      "outputs": [
        {
          "output_type": "stream",
          "name": "stdout",
          "text": [
            "[1, 2, 3, 4, 5, 6, 7, 8, 9, 11, 23, 33, 67, 123]\n"
          ]
        }
      ]
    },
    {
      "cell_type": "code",
      "source": [
        "lista_de_tamanhos = [1000,2000,3000,4000,5000,8000,11000,15000]\n"
      ],
      "metadata": {
        "id": "7Ui2oZHGW0HE"
      },
      "execution_count": null,
      "outputs": []
    },
    {
      "cell_type": "code",
      "source": [
        "tempos = []\n",
        "for tamanho in lista_de_tamanhos:\n",
        "  listaAleatoria = list(np.random.randint(1, tamanho, tamanho))\n",
        "  inicioCount = perf_counter()\n",
        "  Quick(listaAleatoria)\n",
        "  fimCount = perf_counter()\n",
        "  tempoDeOrdenamento = fimCount - inicioCount\n",
        "  tempos.append(tempoDeOrdenamento)"
      ],
      "metadata": {
        "id": "14I-TEzS8dWT"
      },
      "execution_count": null,
      "outputs": []
    },
    {
      "cell_type": "code",
      "source": [
        "tempos"
      ],
      "metadata": {
        "colab": {
          "base_uri": "https://localhost:8080/"
        },
        "id": "nNZZoVg--hWT",
        "outputId": "22892c59-938a-4152-d420-c397eb3e13bc"
      },
      "execution_count": null,
      "outputs": [
        {
          "output_type": "execute_result",
          "data": {
            "text/plain": [
              "[0.0027988609981548507,\n",
              " 0.006624000998272095,\n",
              " 0.008600827997724991,\n",
              " 0.0097694659998524,\n",
              " 0.010044144000858068,\n",
              " 0.01990559199839481,\n",
              " 0.02549514500060468,\n",
              " 0.039337829999567475]"
            ]
          },
          "metadata": {},
          "execution_count": 24
        }
      ]
    },
    {
      "cell_type": "code",
      "source": [
        "temposPiores = []\n",
        "for tamanho in lista_de_tamanhos:\n",
        "  listaAleatoria = list(np.arange(tamanho))\n",
        "  listaAleatoria.reverse()\n",
        "  inicioCount = perf_counter()\n",
        "  listaAleatoria = Quick(listaAleatoria)\n",
        "  fimCount = perf_counter()\n",
        "  print(len(listaAleatoria))\n",
        "  tempoDeOrdenamento = fimCount - inicioCount\n",
        "  temposPiores.append(tempoDeOrdenamento)"
      ],
      "metadata": {
        "colab": {
          "base_uri": "https://localhost:8080/"
        },
        "id": "UfM4JUTqAFCW",
        "outputId": "bff60e37-82d0-410f-c7ed-494ff3ccd085"
      },
      "execution_count": null,
      "outputs": [
        {
          "output_type": "stream",
          "name": "stdout",
          "text": [
            "1000\n",
            "2000\n",
            "3000\n",
            "4000\n",
            "5000\n",
            "8000\n",
            "11000\n",
            "15000\n"
          ]
        }
      ]
    },
    {
      "cell_type": "code",
      "source": [
        "temposPiores"
      ],
      "metadata": {
        "colab": {
          "base_uri": "https://localhost:8080/"
        },
        "id": "x3fuQ1wtHElc",
        "outputId": "01bf4fe8-988d-46e7-8328-3e8c5dfa9e7b"
      },
      "execution_count": null,
      "outputs": [
        {
          "output_type": "execute_result",
          "data": {
            "text/plain": [
              "[0.0951227090008615,\n",
              " 0.26939288299763575,\n",
              " 0.7380010060005588,\n",
              " 1.128312081000331,\n",
              " 1.8274982830007502,\n",
              " 4.7392604680026125,\n",
              " 9.21580737000113,\n",
              " 18.216113469999982]"
            ]
          },
          "metadata": {},
          "execution_count": 27
        }
      ]
    },
    {
      "cell_type": "code",
      "source": [
        "plt.plot(lista_de_tamanhos, tempos, label='Listas aleatórias')\n",
        "plt.plot(lista_de_tamanhos, temposPiores, color='tab:red', label='Listas decrescentes')\n",
        "plt.legend()"
      ],
      "metadata": {
        "colab": {
          "base_uri": "https://localhost:8080/",
          "height": 282
        },
        "id": "DyQ8lEAZHH7J",
        "outputId": "c54db6eb-ede2-41cf-b807-728ed448783b"
      },
      "execution_count": null,
      "outputs": [
        {
          "output_type": "execute_result",
          "data": {
            "text/plain": [
              "<matplotlib.legend.Legend at 0x7f6ada765850>"
            ]
          },
          "metadata": {},
          "execution_count": 28
        },
        {
          "output_type": "display_data",
          "data": {
            "text/plain": [
              "<Figure size 432x288 with 1 Axes>"
            ],
            "image/png": "[encoded data removed]"
          },
          "metadata": {
            "needs_background": "light"
          }
        }
      ]
    }
  ]
}