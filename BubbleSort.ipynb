{
  "nbformat": 4,
  "nbformat_minor": 0,
  "metadata": {
    "colab": {
      "provenance": [],
      "authorship_tag": "ABX9TyMurqNCCJef50jZ9mvQpbok"
    },
    "kernelspec": {
      "name": "python3",
      "display_name": "Python 3"
    },
    "language_info": {
      "name": "python"
    }
  },
  "cells": [
    {
      "cell_type": "code",
      "execution_count": null,
      "metadata": {
        "id": "yKoH5H8LcpaW"
      },
      "outputs": [],
      "source": [
        "import numpy as np\n",
        "import matplotlib.pyplot as plt\n",
        "from time import perf_counter"
      ]
    },
    {
      "cell_type": "code",
      "source": [
        "def ordenar(lista):\n",
        "  i = 0\n",
        "  while (i < len(lista)-1):\n",
        "      if(lista[i] > lista[i+1]):\n",
        "        lista[i], lista[i+1] = lista[i+1], lista[i]\n",
        "        if i > 0:\n",
        "          i -= 1\n",
        "      else: i += 1"
      ],
      "metadata": {
        "id": "cCW4GPcpdyv6"
      },
      "execution_count": null,
      "outputs": []
    },
    {
      "cell_type": "code",
      "source": [
        "lista_de_tamanhos = [1000,2000,3000,4000,5000,8000,11000,15000]\n",
        "tempos = []\n",
        "for a in lista_de_tamanhos:\n",
        "  nova_lista = list(np.random.randint(1, a, a))\n",
        "  inicio_count = perf_counter()\n",
        "  ordenar(nova_lista)\n",
        "  fim_count = perf_counter()\n",
        "  tempo_final = fim_count - inicio_count\n",
        "  tempos.append(tempo_final)\n",
        "tempos"
      ],
      "metadata": {
        "colab": {
          "base_uri": "https://localhost:8080/"
        },
        "id": "m0lPDM1ni68q",
        "outputId": "0f94b8c0-eebd-4a98-d31a-eee3af68afbc"
      },
      "execution_count": null,
      "outputs": [
        {
          "output_type": "execute_result",
          "data": {
            "text/plain": [
              "[0.18994951199999832,\n",
              " 0.7554810779999457,\n",
              " 2.0934809690000407,\n",
              " 2.9630826359999674,\n",
              " 4.575742262999995,\n",
              " 12.041002796999976,\n",
              " 22.599254065999958,\n",
              " 43.309817157]"
            ]
          },
          "metadata": {},
          "execution_count": 8
        }
      ]
    },
    {
      "cell_type": "code",
      "source": [
        "plt.xlabel('Tamanhos das listas')\n",
        "plt.ylabel('Tempo para ordenar')\n",
        "plt.plot(lista_de_tamanhos, tempos)\n"
      ],
      "metadata": {
        "colab": {
          "base_uri": "https://localhost:8080/",
          "height": 296
        },
        "id": "V_rvKZQ-pe1i",
        "outputId": "507011e4-3975-43c9-ecb9-1050c3503a51"
      },
      "execution_count": null,
      "outputs": [
        {
          "output_type": "execute_result",
          "data": {
            "text/plain": [
              "[<matplotlib.lines.Line2D at 0x7fbc65d73890>]"
            ]
          },
          "metadata": {},
          "execution_count": 9
        },
        {
          "output_type": "display_data",
          "data": {
            "text/plain": [
              "<Figure size 432x288 with 1 Axes>"
            ],
            "image/png": "[encoded data removed]"
          },
          "metadata": {
            "needs_background": "light"
          }
        }
      ]
    },
    {
      "cell_type": "markdown",
      "source": [
        "# Agora será testado o pior caso do Bubble sort, quando a lista está em ordem decrescente:"
      ],
      "metadata": {
        "id": "xCpAa6CxY_xj"
      }
    },
    {
      "cell_type": "code",
      "source": [
        "lista_de_tamanhos_2 = [1000, 2000, 3000, 4000, 5000, 8000, 11000, 15000]\n",
        "tempos2 = []\n",
        "for a in lista_de_tamanhos_2:\n",
        "  nova_lista = list(np.arange(1, a+1))\n",
        "  nova_lista.reverse()\n",
        "  inicio_count = perf_counter()\n",
        "  ordenar(nova_lista)\n",
        "  fim_count = perf_counter()\n",
        "  tempo_final = fim_count - inicio_count\n",
        "  tempos2.append(tempo_final)\n",
        "tempos2"
      ],
      "metadata": {
        "colab": {
          "base_uri": "https://localhost:8080/"
        },
        "id": "mHFPWZBnW978",
        "outputId": "c87ad211-508a-46c8-e4ee-c576f4ca8fa8"
      },
      "execution_count": null,
      "outputs": [
        {
          "output_type": "execute_result",
          "data": {
            "text/plain": [
              "[0.3596038480000061,\n",
              " 1.4811342829999887,\n",
              " 3.283381518999988,\n",
              " 5.917249134999992,\n",
              " 10.539511949000001,\n",
              " 23.470527965000002,\n",
              " 44.576104466000004,\n",
              " 83.120171196]"
            ]
          },
          "metadata": {},
          "execution_count": 6
        }
      ]
    },
    {
      "cell_type": "markdown",
      "source": [
        "## Comparando os dois tempos no gráfico, percebemos que o pior caso demora mais:"
      ],
      "metadata": {
        "id": "c1iLrnhZiZnA"
      }
    },
    {
      "cell_type": "code",
      "source": [
        "plt.plot(lista_de_tamanhos, tempos2, label='Lista decrescente', color='tab:red')\n",
        "plt.plot(lista_de_tamanhos, tempos, label='Lista aleatória')\n",
        "plt.xlabel('Tamanhos das listas')\n",
        "plt.ylabel('Tempo para ordenar')\n",
        "plt.title('Comparação de tempos por tamanho')\n",
        "plt.legend()\n",
        "plt.show()"
      ],
      "metadata": {
        "colab": {
          "base_uri": "https://localhost:8080/",
          "height": 295
        },
        "id": "vuiTeWvbrL33",
        "outputId": "3c7a2bb9-3fae-4166-f222-978052809710"
      },
      "execution_count": null,
      "outputs": [
        {
          "output_type": "display_data",
          "data": {
            "text/plain": [
              "<Figure size 432x288 with 1 Axes>"
            ],
            "image/png": "[encoded data removed]"
          },
          "metadata": {
            "needs_background": "light"
          }
        }
      ]
    },
    {
      "cell_type": "code",
      "source": [],
      "metadata": {
        "id": "Bdj_SPaID-Z0"
      },
      "execution_count": null,
      "outputs": []
    }
  ]
}